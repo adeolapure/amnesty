{
 "metadata": {
  "name": "make_county_timeseries"
 },
 "nbformat": 3,
 "nbformat_minor": 0,
 "worksheets": [
  {
   "cells": [
    {
     "cell_type": "code",
     "collapsed": false,
     "input": [
      "import pandas as pd"
     ],
     "language": "python",
     "metadata": {},
     "outputs": [],
     "prompt_number": 1
    },
    {
     "cell_type": "code",
     "collapsed": false,
     "input": [
      "df = pd.read_csv('lotus_database.csv')"
     ],
     "language": "python",
     "metadata": {},
     "outputs": [],
     "prompt_number": 45
    },
    {
     "cell_type": "code",
     "collapsed": false,
     "input": [
      "df.country[1]"
     ],
     "language": "python",
     "metadata": {},
     "outputs": [
      {
       "output_type": "pyout",
       "prompt_number": 46,
       "text": [
        "'dominican republic issued on'"
       ]
      }
     ],
     "prompt_number": 46
    },
    {
     "cell_type": "code",
     "collapsed": false,
     "input": [
      "df.country = df['country'].map( lambda c : c.split(' ')[0] if type(c)!=float else 'NaN' )\n",
      "countries = df.country.unique()"
     ],
     "language": "python",
     "metadata": {},
     "outputs": [],
     "prompt_number": 47
    },
    {
     "cell_type": "code",
     "collapsed": false,
     "input": [
      "from collections import defaultdict\n",
      "from pandas import DataFrame\n",
      "d = {}\n",
      "for c in countries:\n",
      "    d[c] = df[ df.country == c ]\n",
      "    "
     ],
     "language": "python",
     "metadata": {},
     "outputs": [],
     "prompt_number": 4
    },
    {
     "cell_type": "code",
     "collapsed": false,
     "input": [
      "brazil = d['brazil']"
     ],
     "language": "python",
     "metadata": {},
     "outputs": [],
     "prompt_number": 5
    },
    {
     "cell_type": "code",
     "collapsed": false,
     "input": [
      "brazil['issue_date'] = brazil['issue_date'].map( lambda date : brazil['all_dates'][brazil['issue_date']==date].split('|')[0] if date == 'NaN' else date )"
     ],
     "language": "python",
     "metadata": {},
     "outputs": [],
     "prompt_number": 6
    },
    {
     "cell_type": "code",
     "collapsed": false,
     "input": [
      "br"
     ],
     "language": "python",
     "metadata": {},
     "outputs": [
      {
       "ename": "NameError",
       "evalue": "name 'br' is not defined",
       "output_type": "pyerr",
       "traceback": [
        "\u001b[0;31m---------------------------------------------------------------------------\u001b[0m\n\u001b[0;31mNameError\u001b[0m                                 Traceback (most recent call last)",
        "\u001b[0;32m<ipython-input-7-5f743e70c6d2>\u001b[0m in \u001b[0;36m<module>\u001b[0;34m()\u001b[0m\n\u001b[0;32m----> 1\u001b[0;31m \u001b[0mbr\u001b[0m\u001b[0;34m\u001b[0m\u001b[0m\n\u001b[0m",
        "\u001b[0;31mNameError\u001b[0m: name 'br' is not defined"
       ]
      }
     ],
     "prompt_number": 7
    },
    {
     "cell_type": "code",
     "collapsed": false,
     "input": [
      "brazil[ brazil.issue_date == '2012-08-16' ]\n",
      "br_ids = brazil.id\n",
      "br_ids[0:5]"
     ],
     "language": "python",
     "metadata": {},
     "outputs": [
      {
       "output_type": "pyout",
       "prompt_number": 8,
       "text": [
        "284    328/12\n",
        "299    321/12\n",
        "305    321/12\n",
        "423    245/12\n",
        "432    241/12\n",
        "Name: id, dtype: object"
       ]
      }
     ],
     "prompt_number": 8
    },
    {
     "cell_type": "code",
     "collapsed": false,
     "input": [
      "br_datedict = defaultdict(list)"
     ],
     "language": "python",
     "metadata": {},
     "outputs": [],
     "prompt_number": 9
    },
    {
     "cell_type": "code",
     "collapsed": false,
     "input": [
      "br_datedict = defaultdict(list)\n",
      "for id in br_ids:\n",
      "    number, year = id.split('/')\n",
      "    br_datedict[year].append( number )\n",
      "br_datedict"
     ],
     "language": "python",
     "metadata": {},
     "outputs": [
      {
       "output_type": "pyout",
       "prompt_number": 10,
       "text": [
        "defaultdict(<type 'list'>, {'11': ['294', '294', '294', '294', '369', '339', '294', '234', '168'], '10': ['244', '229', '192', '115', '115', '89', '89'], '00': ['33', '243', '134', '243', '373', '306', '291', '157', '157', '243', '243', '157', '134', '125', '64', '54', '33', '36', '14'], '12': ['328', '321', '321', '245', '241', '185', '115', '63'], '06': ['330', '288', '272', '205', '205', '18', '133', '62', '71', '18', '71', '62', '18'], '07': ['313', '293', '276', '270', '218', '42', '42', '35', '42', '35'], '04': ['295', '283', '279', '279', '28', '28', '12'], '05': ['178', '178', '255', '244', '178', '178', '178', '186', '178', '82', '13', '13', '13'], '03': ['105', '8', '183', '174', '105', '91', '8'], '08': ['295', '306', '295', '267'], '09': ['306', '225', '306', '254', '229', '229', '225', '05', '165', '138', '53', '05'], '98': ['38', '311'], '02': ['216', '209', '307', '216', '176', '220', '216', '209', '176', '161'], '99': ['321', '322', '321', '300', '213', '213', '196', '146', '145', '49', '59', '33', '33', '24'], '01': ['326', '319', '303', '16', '59', '17', '16']})"
       ]
      }
     ],
     "prompt_number": 10
    },
    {
     "cell_type": "code",
     "collapsed": false,
     "input": [
      "br_year_count = defaultdict(float)\n",
      "for k in br_datedict.keys():\n",
      "    if int(k) < 14:\n",
      "        int_year = pd.datetime(int(k) + 2000,1,1)\n",
      "    else:\n",
      "        int_year = pd.datetime(int(k) + 1900,1,1)\n",
      "    print k\n",
      "    print int_year\n",
      "    br_year_count[int_year] = len( br_datedict[k] )\n",
      "br_year_count\n"
     ],
     "language": "python",
     "metadata": {},
     "outputs": [
      {
       "output_type": "stream",
       "stream": "stdout",
       "text": [
        "11\n",
        "2011-01-01 00:00:00\n",
        "10\n",
        "2010-01-01 00:00:00\n",
        "00\n",
        "2000-01-01 00:00:00\n",
        "12\n",
        "2012-01-01 00:00:00\n",
        "06\n",
        "2006-01-01 00:00:00\n",
        "07\n",
        "2007-01-01 00:00:00\n",
        "04\n",
        "2004-01-01 00:00:00\n",
        "05\n",
        "2005-01-01 00:00:00\n",
        "03\n",
        "2003-01-01 00:00:00\n",
        "08\n",
        "2008-01-01 00:00:00\n",
        "09\n",
        "2009-01-01 00:00:00\n",
        "98\n",
        "1998-01-01 00:00:00\n",
        "02\n",
        "2002-01-01 00:00:00\n",
        "99\n",
        "1999-01-01 00:00:00\n",
        "01\n",
        "2001-01-01 00:00:00\n"
       ]
      },
      {
       "output_type": "pyout",
       "prompt_number": 11,
       "text": [
        "defaultdict(<type 'float'>, {datetime.datetime(1998, 1, 1, 0, 0): 2, datetime.datetime(2004, 1, 1, 0, 0): 7, datetime.datetime(1999, 1, 1, 0, 0): 14, datetime.datetime(2011, 1, 1, 0, 0): 9, datetime.datetime(2008, 1, 1, 0, 0): 4, datetime.datetime(2003, 1, 1, 0, 0): 7, datetime.datetime(2009, 1, 1, 0, 0): 12, datetime.datetime(2010, 1, 1, 0, 0): 7, datetime.datetime(2005, 1, 1, 0, 0): 13, datetime.datetime(2000, 1, 1, 0, 0): 19, datetime.datetime(2006, 1, 1, 0, 0): 13, datetime.datetime(2001, 1, 1, 0, 0): 7, datetime.datetime(2012, 1, 1, 0, 0): 8, datetime.datetime(2007, 1, 1, 0, 0): 10, datetime.datetime(2002, 1, 1, 0, 0): 10})"
       ]
      }
     ],
     "prompt_number": 11
    },
    {
     "cell_type": "code",
     "collapsed": false,
     "input": [
      "ts = pd.TimeSeries(data=br_year_count.values(), index = br_year_count.keys())"
     ],
     "language": "python",
     "metadata": {},
     "outputs": [],
     "prompt_number": 12
    },
    {
     "cell_type": "code",
     "collapsed": false,
     "input": [
      "fig = figure()\n",
      "ax = fig.add_subplot(111)\n",
      "ts.plot(title='Urgent Actions in Brazil', ax=ax)\n",
      "ax.set_xlim(['1997-01-01', '2013-01-01'])\n",
      "ax.set_ylim([0, 22])\n"
     ],
     "language": "python",
     "metadata": {},
     "outputs": [
      {
       "output_type": "pyout",
       "prompt_number": 13,
       "text": [
        "(0, 22)"
       ]
      },
      {
       "output_type": "display_data",
       "png": "[encoded data removed]"
      }
     ],
     "prompt_number": 13
    },
    {
     "cell_type": "code",
     "collapsed": false,
     "input": [
      "br_cats = brazil['category'].map( lambda c : c.split('|') )\n",
      "cats2 = []\n",
      "for el in br_cats:\n",
      "    cats2.extend( el )\n",
      "cats2\n",
      "set(cats2)"
     ],
     "language": "python",
     "metadata": {},
     "outputs": [
      {
       "output_type": "pyout",
       "prompt_number": 18,
       "text": [
        "set(['',\n",
        "     'ua 138/09',\n",
        "     'ua 272/06',\n",
        "     'human rights defender',\n",
        "     'ua 178/05',\n",
        "     'ua 28/04',\n",
        "     'subject:  final update to ua 294/11 on brazil',\n",
        "     'ua 209/02',\n",
        "     'children',\n",
        "     'ua 35/07',\n",
        "     'arbitrary arrest',\n",
        "     'impunity',\n",
        "     'ua 174/03',\n",
        "     'ua 134/00',\n",
        "     'ua 255/05',\n",
        "     'ua 254/09',\n",
        "     'ua 306/00',\n",
        "     'legal professionals',\n",
        "     'community leader',\n",
        "     'ua 13/05',\n",
        "     'torture',\n",
        "     'disappearance',\n",
        "     'ua 225/09',\n",
        "     'intimidation',\n",
        "     'indigenous',\n",
        "     'forced eviction',\n",
        "     'ex 33/99',\n",
        "     'afro-descendant community',\n",
        "     'ua 283/04',\n",
        "     'abduction',\n",
        "     'ua 279/04',\n",
        "     'ua 229/09',\n",
        "     'legal concern',\n",
        "     'ua 133/06',\n",
        "     '(m/f)',\n",
        "     'ua 168/11',\n",
        "     'uas 2012',\n",
        "     'uas 2010',\n",
        "     'uas 2011',\n",
        "     'starvation',\n",
        "     'ua 42/07',\n",
        "     'ua 295/08',\n",
        "     'risk of torture',\n",
        "     'ua 62/06',\n",
        "     'ua 229/10',\n",
        "     'death threats',\n",
        "     'ua 216/02',\n",
        "     'ua 53/09',\n",
        "     'ua 319/01',\n",
        "     'harassment',\n",
        "     'ua 291/00',\n",
        "     'brazil',\n",
        "     'uas 2008',\n",
        "     'unionists',\n",
        "     'students',\n",
        "     'activist',\n",
        "     'religious leaders',\n",
        "     'ua 157/00',\n",
        "     'ua 313/07',\n",
        "     'ex 49/99',\n",
        "     'ua 38/99',\n",
        "     'ua 326/01',\n",
        "     'ua 18/06',\n",
        "     'killing',\n",
        "     'ua 196/99',\n",
        "     'ua 321/99',\n",
        "     'ua 322/99',\n",
        "     'ua 293/07',\n",
        "     'ua 161/02',\n",
        "     'fear for safety',\n",
        "     'ua 24/99',\n",
        "     'enforced disappearance',\n",
        "     'ua 16/01',\n",
        "     'ua 220/02',\n",
        "     'ua 64/00',\n",
        "     'ua 54/00',\n",
        "     'ua 244/10',\n",
        "     'ua 270/07',\n",
        "     'health concern',\n",
        "     'community',\n",
        "     'female',\n",
        "     'ua 183/03',\n",
        "     'ua 1306/09',\n",
        "     'ua 276/07',\n",
        "     'journalists and writers',\n",
        "     'ua 311/98',\n",
        "     'ua 218/07',\n",
        "     'ua 125/00',\n",
        "     'ua 14/00',\n",
        "     'families',\n",
        "     'ua 244/05',\n",
        "     'extra-judicial execution',\n",
        "     'ua 295/04',\n",
        "     'ua 12/04',\n",
        "     'ua 105/03',\n",
        "     'ua 303/01',\n",
        "     'ua 243/00',\n",
        "     'ua 05/09',\n",
        "     'ua 306/09',\n",
        "     'ua 306/08',\n",
        "     'ua 300/99',\n",
        "     'women',\n",
        "     'ua 17/01',\n",
        "     'risk of ill-treatment',\n",
        "     'medical action ma 16/01',\n",
        "     'ua 19/03',\n",
        "     'ua 145/99',\n",
        "     'land rights',\n",
        "     'male',\n",
        "     'ua 267/08',\n",
        "     'social scientists',\n",
        "     'subject:  ua 321/12 on brazil',\n",
        "     'ua 373/00',\n",
        "     'escr',\n",
        "     'lgbt issues',\n",
        "     'ua 213/99',\n",
        "     'ua 36/00',\n",
        "     'ua 71/06',\n",
        "     'ua 186/05',\n",
        "     'ua 146/99',\n",
        "     'uas 2009',\n",
        "     'ua 59/01',\n",
        "     'corporate abuse',\n",
        "     'ua 205/06',\n",
        "     'police brutality',\n",
        "     'ua 205/02',\n",
        "     'male/female',\n",
        "     'ua 330/06',\n",
        "     'ua 307/02',\n",
        "     'environmental activists',\n",
        "     'health professionals',\n",
        "     'ua 176/02',\n",
        "     'ua 59/99',\n",
        "     'ua 8/03',\n",
        "     'human rights defenders',\n",
        "     'ua 33/00',\n",
        "     'ua 82/05',\n",
        "     'ua 288/06'])"
       ]
      }
     ],
     "prompt_number": 18
    },
    {
     "cell_type": "code",
     "collapsed": false,
     "input": [
      "ls"
     ],
     "language": "python",
     "metadata": {},
     "outputs": [
      {
       "output_type": "stream",
       "stream": "stdout",
       "text": [
        "lotus_database.csv            make_country_timeseries.py    make_county_timeseries.ipynb\r\n"
       ]
      }
     ],
     "prompt_number": 19
    },
    {
     "cell_type": "code",
     "collapsed": false,
     "input": [
      "from make_country_timeseries import *"
     ],
     "language": "python",
     "metadata": {},
     "outputs": [],
     "prompt_number": 43
    },
    {
     "cell_type": "code",
     "collapsed": false,
     "input": [
      "country_data = CountryData( df )"
     ],
     "language": "python",
     "metadata": {},
     "outputs": [],
     "prompt_number": 48
    },
    {
     "cell_type": "code",
     "collapsed": false,
     "input": [
      "br_df = country_data.get_timeseries( 'brazil' )"
     ],
     "language": "python",
     "metadata": {},
     "outputs": [
      {
       "ename": "TypeError",
       "evalue": "integer argument expected, got float",
       "output_type": "pyerr",
       "traceback": [
        "\u001b[0;31m---------------------------------------------------------------------------\u001b[0m\n\u001b[0;31mTypeError\u001b[0m                                 Traceback (most recent call last)",
        "\u001b[0;32m<ipython-input-50-e90d3bc1d2aa>\u001b[0m in \u001b[0;36m<module>\u001b[0;34m()\u001b[0m\n\u001b[0;32m----> 1\u001b[0;31m \u001b[0mbr_df\u001b[0m \u001b[0;34m=\u001b[0m \u001b[0mcountry_data\u001b[0m\u001b[0;34m.\u001b[0m\u001b[0mget_timeseries\u001b[0m\u001b[0;34m(\u001b[0m \u001b[0;34m'brazil'\u001b[0m \u001b[0;34m)\u001b[0m\u001b[0;34m\u001b[0m\u001b[0m\n\u001b[0m",
        "\u001b[0;32m/Users/mturner/workspace/dive/amnesty/cleaned_data/make_country_timeseries.py\u001b[0m in \u001b[0;36mget_timeseries\u001b[0;34m(self, country)\u001b[0m\n\u001b[1;32m     33\u001b[0m         \u001b[0;31m#country_df = self.country_df_dict[ country ]\u001b[0m\u001b[0;34m\u001b[0m\u001b[0;34m\u001b[0m\u001b[0m\n\u001b[1;32m     34\u001b[0m         \u001b[0mcountry_df\u001b[0m \u001b[0;34m=\u001b[0m \u001b[0mself\u001b[0m\u001b[0;34m.\u001b[0m\u001b[0mget_country_df\u001b[0m\u001b[0;34m(\u001b[0m \u001b[0mcountry\u001b[0m \u001b[0;34m)\u001b[0m\u001b[0;34m\u001b[0m\u001b[0m\n\u001b[0;32m---> 35\u001b[0;31m \u001b[0;34m\u001b[0m\u001b[0m\n\u001b[0m\u001b[1;32m     36\u001b[0m         \u001b[0myears\u001b[0m \u001b[0;34m=\u001b[0m \u001b[0mcountry_df\u001b[0m\u001b[0;34m[\u001b[0m\u001b[0;34m'year'\u001b[0m\u001b[0;34m]\u001b[0m\u001b[0;34m\u001b[0m\u001b[0m\n\u001b[1;32m     37\u001b[0m         \u001b[0;32mfor\u001b[0m \u001b[0myear\u001b[0m \u001b[0;32min\u001b[0m \u001b[0myears\u001b[0m\u001b[0;34m:\u001b[0m\u001b[0;34m\u001b[0m\u001b[0m\n",
        "\u001b[0;31mTypeError\u001b[0m: integer argument expected, got float"
       ]
      }
     ],
     "prompt_number": 50
    },
    {
     "cell_type": "code",
     "collapsed": false,
     "input": [],
     "language": "python",
     "metadata": {},
     "outputs": []
    }
   ],
   "metadata": {}
  }
 ]
}