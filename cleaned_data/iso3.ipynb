{
 "metadata": {
  "name": ""
 },
 "nbformat": 3,
 "nbformat_minor": 0,
 "worksheets": [
  {
   "cells": [
    {
     "cell_type": "code",
     "collapsed": false,
     "input": [
      "import pandas as pd\n",
      "\n",
      "lotus = pd.read_csv('lotus_database.csv')\n",
      "\n",
      "print lotus\n",
      "\n"
     ],
     "language": "python",
     "metadata": {},
     "outputs": [
      {
       "output_type": "stream",
       "stream": "stdout",
       "text": [
        "<class 'pandas.core.frame.DataFrame'>\n",
        "Int64Index: 11000 entries, 0 to 10999\n",
        "Data columns (total 10 columns):\n",
        "document       11000  non-null values\n",
        "id             10761  non-null values\n",
        "subject        10797  non-null values\n",
        "category       10796  non-null values\n",
        "country        10702  non-null values\n",
        "gender         29  non-null values\n",
        "appeal_date    992  non-null values\n",
        "issue_date     3756  non-null values\n",
        "action         4203  non-null values\n",
        "all_dates      10510  non-null values\n",
        "dtypes: int64(1), object(9)\n"
       ]
      }
     ],
     "prompt_number": 173
    },
    {
     "cell_type": "code",
     "collapsed": false,
     "input": [
      "from countrycode import countrycode\n",
      "\n",
      "lotus['code_subject'] = countrycode(codes=lotus.subject, origin='country_name', target='iso3c') \n",
      "lotus['code_category'] = countrycode(codes=lotus.category, origin='country_name', target='iso3c')\n",
      "lotus['code_country'] = countrycode(codes=lotus.country, origin='country_name', target='iso3c')\n",
      "\n"
     ],
     "language": "python",
     "metadata": {},
     "outputs": [],
     "prompt_number": 174
    },
    {
     "cell_type": "code",
     "collapsed": false,
     "input": [
      "lotus['code_subject'][lotus['code_subject']==lotus['subject']] = 'NA'\n",
      "lotus['code_category'][lotus['code_category']==lotus['category']] = 'NA'\n",
      "lotus['code_country'][lotus['code_country']==lotus['country']] = 'NA'\n"
     ],
     "language": "python",
     "metadata": {},
     "outputs": [],
     "prompt_number": 175
    },
    {
     "cell_type": "code",
     "collapsed": false,
     "input": [
      "iso3_list = []\n",
      "for i, row in lotus.iterrows():\n",
      "    if row['code_country']!='NA':\n",
      "        iso3 = row['code_country']\n",
      "    elif row['code_subject']!='NA':\n",
      "        iso3 = row['code_subject']\n",
      "    elif row['code_category']!='NA':\n",
      "        iso3 = row['code_category']\n",
      "    else:\n",
      "        iso3 = 'NA'\n",
      "    iso3_list.append(iso3)\n"
     ],
     "language": "python",
     "metadata": {},
     "outputs": [],
     "prompt_number": 176
    },
    {
     "cell_type": "code",
     "collapsed": false,
     "input": [
      "lotus['iso3'] = iso3_list\n"
     ],
     "language": "python",
     "metadata": {},
     "outputs": [],
     "prompt_number": 177
    },
    {
     "cell_type": "code",
     "collapsed": false,
     "input": [
      "lotus = lotus.drop('code_subject',1)\n",
      "lotus = lotus.drop('code_category',1)\n",
      "lotus = lotus.drop('code_country',1)"
     ],
     "language": "python",
     "metadata": {},
     "outputs": [],
     "prompt_number": 180
    },
    {
     "cell_type": "code",
     "collapsed": false,
     "input": [
      "lotus.to_csv('lotus_iso3.csv')"
     ],
     "language": "python",
     "metadata": {},
     "outputs": [],
     "prompt_number": 182
    },
    {
     "cell_type": "code",
     "collapsed": false,
     "input": [],
     "language": "python",
     "metadata": {},
     "outputs": []
    }
   ],
   "metadata": {}
  }
 ]
}